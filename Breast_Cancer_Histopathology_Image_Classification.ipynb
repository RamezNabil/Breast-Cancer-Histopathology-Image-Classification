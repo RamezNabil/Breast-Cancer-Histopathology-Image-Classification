{
  "nbformat": 4,
  "nbformat_minor": 0,
  "metadata": {
    "colab": {
      "name": "Breast-Cancer-Histopathology-Image-Classification.ipynb",
      "provenance": [],
      "collapsed_sections": [],
      "authorship_tag": "ABX9TyPZ3cUqqAH/FGwbJ/iDVl8E",
      "include_colab_link": true
    },
    "kernelspec": {
      "name": "python3",
      "display_name": "Python 3"
    },
    "language_info": {
      "name": "python"
    },
    "accelerator": "GPU"
  },
  "cells": [
    {
      "cell_type": "markdown",
      "metadata": {
        "id": "view-in-github",
        "colab_type": "text"
      },
      "source": [
        "<a href=\"https://colab.research.google.com/github/RamezNabil/Breast-Cancer-Histopathology-Image-Classification-Transfer-Learning/blob/main/Breast_Cancer_Histopathology_Image_Classification.ipynb\" target=\"_parent\"><img src=\"https://colab.research.google.com/assets/colab-badge.svg\" alt=\"Open In Colab\"/></a>"
      ]
    },
    {
      "cell_type": "markdown",
      "metadata": {
        "id": "RhvxXzLmlyz-"
      },
      "source": [
        "Setting up Kaggle Datasets"
      ]
    },
    {
      "cell_type": "code",
      "metadata": {
        "id": "JCXgelezl-c-"
      },
      "source": [
        "!pip install -q kaggle"
      ],
      "execution_count": 1,
      "outputs": []
    },
    {
      "cell_type": "code",
      "metadata": {
        "id": "irbtHi5AkZ01"
      },
      "source": [
        "# Upload your Kaggle API json file\n",
        "from google.colab import files\n",
        "files.upload()"
      ],
      "execution_count": null,
      "outputs": []
    },
    {
      "cell_type": "code",
      "metadata": {
        "id": "P-jl3gCRmXHK",
        "colab": {
          "base_uri": "https://localhost:8080/"
        },
        "outputId": "78b4bf98-9118-456b-804a-524b7632044b"
      },
      "source": [
        "!rm -r ~/.kaggle\n",
        "!mkdir ~/.kaggle\n",
        "!mv ./kaggle.json ~/.kaggle/\n",
        "!chmod 600 ~/.kaggle/kaggle.json\n",
        "!kaggle datasets list"
      ],
      "execution_count": 3,
      "outputs": [
        {
          "output_type": "stream",
          "text": [
            "rm: cannot remove '/root/.kaggle': No such file or directory\n",
            "Warning: Looks like you're using an outdated API Version, please consider updating (server 1.5.12 / client 1.5.4)\n",
            "ref                                                         title                                              size  lastUpdated          downloadCount  \n",
            "----------------------------------------------------------  ------------------------------------------------  -----  -------------------  -------------  \n",
            "gpreda/reddit-vaccine-myths                                 Reddit Vaccine Myths                              233KB  2021-08-13 06:53:06          10617  \n",
            "crowww/a-large-scale-fish-dataset                           A Large Scale Fish Dataset                          3GB  2021-04-28 17:03:01           6489  \n",
            "imsparsh/musicnet-dataset                                   MusicNet Dataset                                   22GB  2021-02-18 14:12:19           2441  \n",
            "dhruvildave/wikibooks-dataset                               Wikibooks Dataset                                   2GB  2021-07-03 18:37:20           2644  \n",
            "promptcloud/careerbuilder-job-listing-2020                  Careerbuilder Job Listing 2020                     42MB  2021-03-05 06:59:52           1590  \n",
            "fatiimaezzahra/famous-iconic-women                          Famous Iconic Women                               838MB  2021-02-28 14:56:00           1108  \n",
            "alsgroup/end-als                                            End ALS Kaggle Challenge                           12GB  2021-04-08 12:16:37            836  \n",
            "mathurinache/twitter-edge-nodes                             Twitter Edge Nodes                                342MB  2021-03-08 06:43:04            765  \n",
            "nickuzmenkov/nih-chest-xrays-tfrecords                      NIH Chest X-rays TFRecords                         11GB  2021-03-09 04:49:23            922  \n",
            "simiotic/github-code-snippets                               GitHub Code Snippets                                7GB  2021-03-03 11:34:39            280  \n",
            "coloradokb/dandelionimages                                  DandelionImages                                     4GB  2021-02-19 20:03:47            710  \n",
            "imsparsh/accentdb-core-extended                             AccentDB - Core & Extended                          6GB  2021-02-17 14:22:54            130  \n",
            "stuartjames/lights                                          LightS: Light Specularity Dataset                  18GB  2021-02-18 14:32:26            112  \n",
            "mathurinache/the-lj-speech-dataset                          The LJ Speech Dataset                               3GB  2021-02-15 09:19:54            285  \n",
            "landrykezebou/lvzhdr-tone-mapping-benchmark-dataset-tmonet  LVZ-HDR Tone Mapping Benchmark Dataset (TMO-Net)   24GB  2021-03-01 05:03:40            167  \n",
            "nickuzmenkov/ranzcr-clip-kfold-tfrecords                    RANZCR CLiP KFold TFRecords                         2GB  2021-02-21 13:29:51            120  \n",
            "datasnaek/youtube-new                                       Trending YouTube Video Statistics                 201MB  2019-06-03 00:56:47         146493  \n",
            "zynicide/wine-reviews                                       Wine Reviews                                       51MB  2017-11-27 17:08:04         141842  \n",
            "residentmario/ramen-ratings                                 Ramen Ratings                                      40KB  2018-01-11 16:04:39          25715  \n",
            "datasnaek/chess                                             Chess Game Dataset (Lichess)                        3MB  2017-09-04 03:09:09          20712  \n"
          ],
          "name": "stdout"
        }
      ]
    },
    {
      "cell_type": "markdown",
      "metadata": {
        "id": "9ka_vubinAAA"
      },
      "source": [
        "Downloading the Dataset"
      ]
    },
    {
      "cell_type": "code",
      "metadata": {
        "colab": {
          "base_uri": "https://localhost:8080/"
        },
        "id": "dTsdwxSXjX_C",
        "outputId": "1a32d5a9-d65b-4ddf-971e-8e15a3d70b87"
      },
      "source": [
        "!kaggle datasets download -d paultimothymooney/breast-histopathology-images"
      ],
      "execution_count": 4,
      "outputs": [
        {
          "output_type": "stream",
          "text": [
            "Downloading breast-histopathology-images.zip to /content\n",
            "100% 3.10G/3.10G [00:52<00:00, 45.1MB/s]\n",
            "100% 3.10G/3.10G [00:52<00:00, 63.0MB/s]\n"
          ],
          "name": "stdout"
        }
      ]
    },
    {
      "cell_type": "markdown",
      "metadata": {
        "id": "51vaPnCtnV9p"
      },
      "source": [
        "Extracting Dataset"
      ]
    },
    {
      "cell_type": "code",
      "metadata": {
        "id": "1OOLv9xXnY9g"
      },
      "source": [
        "!unzip \"/content/breast-histopathology-images.zip\" -d Dataset"
      ],
      "execution_count": null,
      "outputs": []
    },
    {
      "cell_type": "code",
      "metadata": {
        "id": "5xoTsnb40p2J"
      },
      "source": [
        "%rm -rf Dataset/IDC_regular_ps50_idx5"
      ],
      "execution_count": 6,
      "outputs": []
    },
    {
      "cell_type": "markdown",
      "metadata": {
        "id": "yZGA8hy2p9BY"
      },
      "source": [
        "Pre-Processing"
      ]
    },
    {
      "cell_type": "code",
      "metadata": {
        "id": "dDhH72aN4839"
      },
      "source": [
        "import os\n",
        "import cv2\n",
        "import random\n",
        "import matplotlib.pyplot as plt\n",
        "import numpy as np\n",
        "import pandas as pd\n",
        "import tensorflow as tf\n",
        "# from tensorflow.keras import layers, models, regularizers\n",
        "# from keras.constraints import maxnorm"
      ],
      "execution_count": 12,
      "outputs": []
    },
    {
      "cell_type": "code",
      "metadata": {
        "id": "PmJDiJO4p_MT"
      },
      "source": [
        "directory = '/content/Dataset/'\n",
        "\n",
        "def load_data():\n",
        "    features = []\n",
        "    label = []\n",
        "    for folder in os.listdir(directory):\n",
        "        for labelfolder in os.listdir(directory + folder):\n",
        "            for img in os.listdir(directory + folder + '/' + labelfolder):\n",
        "              if len(label) == 15000:\n",
        "                  print('Data Loaded')\n",
        "                  return features, label\n",
        "              label.append(int(labelfolder))\n",
        "              img_data = cv2.imread(os.path.join(directory, folder, labelfolder, img))\n",
        "              img_data = cv2.resize(img_data, (224, 224))\n",
        "              features.append(img_data)\n",
        "\n",
        "\n",
        "def shuffle_data(features, label):\n",
        "    # shuffle both lists\n",
        "    both = list(zip(features, label))  # join both arrays together\n",
        "    random.shuffle(both)  # shuffle\n",
        "    b: object\n",
        "    a, b = zip(*both)  # disconnect them from each other\n",
        "    print('Data Shuffled')\n",
        "    return a, b"
      ],
      "execution_count": 7,
      "outputs": []
    },
    {
      "cell_type": "code",
      "metadata": {
        "colab": {
          "base_uri": "https://localhost:8080/"
        },
        "id": "B0Crt7sJwRpM",
        "outputId": "b8105f2b-440b-45c0-b65e-0ed7a9df159a"
      },
      "source": [
        "features, label = load_data()\n",
        "features, label = shuffle_data(features, label)\n",
        "\n",
        "# Change the arrays into numpy arrays, and reshaping them.\n",
        "X_train = np.array(features[:12000]).reshape(-1, 224, 224, 3)\n",
        "y_train = np.array(label[:12000])\n",
        "X_test = np.array(np.array(features[12000:])).reshape(-1, 224, 224, 3)\n",
        "y_test = np.array(label[12000:])"
      ],
      "execution_count": 8,
      "outputs": [
        {
          "output_type": "stream",
          "text": [
            "Data Loaded\n",
            "Data Shuffled\n"
          ],
          "name": "stdout"
        }
      ]
    },
    {
      "cell_type": "markdown",
      "metadata": {
        "id": "8nMxN0RKqO0u"
      },
      "source": [
        "Model"
      ]
    },
    {
      "cell_type": "code",
      "metadata": {
        "colab": {
          "base_uri": "https://localhost:8080/",
          "height": 464
        },
        "id": "m1QE_wWf443S",
        "outputId": "cf5451fa-0951-4de0-cff8-fd69a6e07e68"
      },
      "source": [
        "# Build the model\n",
        "base_model = tf.keras.applications.EfficientNetB0(False)\n",
        "base_model.trainable = False\n",
        "inputs = tf.keras.layers.Input((224,224,3))\n",
        "x = base_model(inputs, training=False)\n",
        "x = tf.keras.layers.GlobalAveragePooling2D()(x)\n",
        "output = tf.keras.layers.Dense(1, 'sigmoid')(x)\n",
        "model = tf.keras.Model(inputs, output)\n",
        "\n",
        "# Compile the model\n",
        "model.compile(loss = tf.keras.losses.binary_crossentropy,\n",
        "              optimizer = tf.keras.optimizers.Adam(),\n",
        "              metrics = [\"accuracy\"])\n",
        "\n",
        "# Fit the model\n",
        "history = model.fit(x=X_train, y=y_train, validation_data=(X_test, y_test), epochs=5)\n",
        "\n",
        "# Plot validation accuarcy\n",
        "pd.DataFrame(history.history[\"val_accuracy\"]).plot()\n",
        "plt.xlabel('Epochs')\n",
        "plt.ylabel('Validation Accuracy')"
      ],
      "execution_count": 30,
      "outputs": [
        {
          "output_type": "stream",
          "text": [
            "Epoch 1/5\n",
            "375/375 [==============================] - 33s 76ms/step - loss: 0.3938 - accuracy: 0.8319 - val_loss: 0.3173 - val_accuracy: 0.8757\n",
            "Epoch 2/5\n",
            "375/375 [==============================] - 27s 73ms/step - loss: 0.3265 - accuracy: 0.8637 - val_loss: 0.2973 - val_accuracy: 0.8790\n",
            "Epoch 3/5\n",
            "375/375 [==============================] - 27s 73ms/step - loss: 0.3099 - accuracy: 0.8710 - val_loss: 0.2935 - val_accuracy: 0.8760\n",
            "Epoch 4/5\n",
            "375/375 [==============================] - 27s 72ms/step - loss: 0.3002 - accuracy: 0.8766 - val_loss: 0.2836 - val_accuracy: 0.8840\n",
            "Epoch 5/5\n",
            "375/375 [==============================] - 27s 72ms/step - loss: 0.2923 - accuracy: 0.8803 - val_loss: 0.2790 - val_accuracy: 0.8833\n"
          ],
          "name": "stdout"
        },
        {
          "output_type": "execute_result",
          "data": {
            "text/plain": [
              "Text(0, 0.5, 'Validation Accuracy')"
            ]
          },
          "metadata": {
            "tags": []
          },
          "execution_count": 30
        },
        {
          "output_type": "display_data",
          "data": {
            "image/png": "[encoded data removed]",
            "text/plain": [
              "<Figure size 432x288 with 1 Axes>"
            ]
          },
          "metadata": {
            "tags": [],
            "needs_background": "light"
          }
        }
      ]
    },
    {
      "cell_type": "markdown",
      "metadata": {
        "id": "Ud9T4eFOA9-d"
      },
      "source": [
        "Fine-Tuning"
      ]
    },
    {
      "cell_type": "code",
      "metadata": {
        "colab": {
          "base_uri": "https://localhost:8080/"
        },
        "id": "SPNadOGxA_7M",
        "outputId": "15b50a3a-a95b-45b1-e3bf-516fd223dcae"
      },
      "source": [
        "# Unfreezing some layers for fine-tuning\n",
        "base_model.trainable = True\n",
        "for layer in base_model.layers[:-10]:\n",
        "  layer.trainable = False\n",
        "\n",
        "# Compile the model\n",
        "model.compile(loss = tf.keras.losses.binary_crossentropy,\n",
        "              optimizer = tf.keras.optimizers.Adam(lr=0.000025),\n",
        "              metrics = [\"accuracy\"])\n",
        "\n",
        "# Fit the model\n",
        "history_finetune = model.fit(x=X_train, y=y_train, validation_data=(X_test, y_test), epochs=10, initial_epoch = history.epoch[-1])"
      ],
      "execution_count": 31,
      "outputs": [
        {
          "output_type": "stream",
          "text": [
            "/usr/local/lib/python3.7/dist-packages/tensorflow/python/keras/optimizer_v2/optimizer_v2.py:375: UserWarning: The `lr` argument is deprecated, use `learning_rate` instead.\n",
            "  \"The `lr` argument is deprecated, use `learning_rate` instead.\")\n"
          ],
          "name": "stderr"
        },
        {
          "output_type": "stream",
          "text": [
            "Epoch 5/10\n",
            "375/375 [==============================] - 34s 79ms/step - loss: 0.2817 - accuracy: 0.8831 - val_loss: 0.2672 - val_accuracy: 0.8893\n",
            "Epoch 6/10\n",
            "375/375 [==============================] - 28s 76ms/step - loss: 0.2663 - accuracy: 0.8923 - val_loss: 0.2677 - val_accuracy: 0.8903\n",
            "Epoch 7/10\n",
            "375/375 [==============================] - 29s 76ms/step - loss: 0.2566 - accuracy: 0.8963 - val_loss: 0.2530 - val_accuracy: 0.8980\n",
            "Epoch 8/10\n",
            "375/375 [==============================] - 28s 76ms/step - loss: 0.2475 - accuracy: 0.8965 - val_loss: 0.2562 - val_accuracy: 0.8950\n",
            "Epoch 9/10\n",
            "375/375 [==============================] - 28s 76ms/step - loss: 0.2392 - accuracy: 0.9040 - val_loss: 0.2476 - val_accuracy: 0.9007\n",
            "Epoch 10/10\n",
            "375/375 [==============================] - 34s 90ms/step - loss: 0.2330 - accuracy: 0.9043 - val_loss: 0.2511 - val_accuracy: 0.9000\n"
          ],
          "name": "stdout"
        }
      ]
    },
    {
      "cell_type": "code",
      "metadata": {
        "colab": {
          "base_uri": "https://localhost:8080/",
          "height": 279
        },
        "id": "PCvPkpkDFkQa",
        "outputId": "f10c811c-1689-404e-bddc-22fc0a722494"
      },
      "source": [
        "# plotting val accuracy before and after fine-tuning\n",
        "val_acc = history.history[\"val_accuracy\"]\n",
        "total_val_acc = val_acc + history_finetune.history[\"val_accuracy\"]\n",
        "\n",
        "plt.plot(total_val_acc, label='Validation Accuracy')\n",
        "plt.plot([4, 4], plt.ylim(), label='Start Fine Tuning')\n",
        "plt.legend(loc='lower right')\n",
        "plt.xlabel('Epochs')\n",
        "plt.show()"
      ],
      "execution_count": 32,
      "outputs": [
        {
          "output_type": "display_data",
          "data": {
            "image/png": "[encoded data removed]",
            "text/plain": [
              "<Figure size 432x288 with 1 Axes>"
            ]
          },
          "metadata": {
            "tags": [],
            "needs_background": "light"
          }
        }
      ]
    }
  ]
}